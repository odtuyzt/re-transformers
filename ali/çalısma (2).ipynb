{
  "nbformat": 4,
  "nbformat_minor": 0,
  "metadata": {
    "colab": {
      "provenance": []
    },
    "kernelspec": {
      "name": "python3",
      "display_name": "Python 3"
    },
    "language_info": {
      "name": "python"
    }
  },
  "cells": [
    {
      "cell_type": "code",
      "source": [
        "import torch\n",
        "import torch.nn as nn \n",
        "import torch.nn.functional as F\n",
        "import copy\n",
        "import math"
      ],
      "metadata": {
        "id": "7PtaN4rM0kY4"
      },
      "execution_count": 5,
      "outputs": []
    },
    {
      "cell_type": "code",
      "source": [
        "def clones(module, N):\n",
        "    \"Produce N identical layers.\"\n",
        "    return nn.ModuleList([copy.deepcopy(module) for _ in range(N)])"
      ],
      "metadata": {
        "id": "WSkWLno8vM2l"
      },
      "execution_count": 6,
      "outputs": []
    },
    {
      "cell_type": "code",
      "source": [
        "class Generator(nn.Module):\n",
        "    def __init__(self, d_model, vocab):\n",
        "        super(Generator, self).__init__()\n",
        "        self.proj = nn.Linear(d_model, vocab)\n",
        "\n",
        "    def forward(self, x):\n",
        "        return log_softmax(self.proj(x), dim=-1)"
      ],
      "metadata": {
        "id": "ZwIauGw-9Ukm"
      },
      "execution_count": 18,
      "outputs": []
    },
    {
      "cell_type": "code",
      "source": [
        "def Attention(q, k, v):\n",
        "  d_k = q.size(-1)\n",
        "  a = torch.matmul(q, torch.transpose(k,1,2))\n",
        "  a /= math.sqrt(d_k)\n",
        "  p_attention = a.softmax(dim=-1)\n",
        "  return torch.matmul(p_attention, v)"
      ],
      "metadata": {
        "id": "ewX7mwMlvT6O"
      },
      "execution_count": 31,
      "outputs": []
    },
    {
      "cell_type": "code",
      "source": [
        "a = torch.randn(32,72,512)\n",
        "print(a[0])"
      ],
      "metadata": {
        "colab": {
          "base_uri": "https://localhost:8080/"
        },
        "id": "5y0j4Z9C_iJP",
        "outputId": "8e8a18da-aa71-45c5-ae94-b37ea5dbff57"
      },
      "execution_count": 28,
      "outputs": [
        {
          "output_type": "stream",
          "name": "stdout",
          "text": [
            "tensor([[-1.1849, -0.8669, -0.9755,  ...,  0.6341, -0.1345, -0.0724],\n",
            "        [ 0.6982,  1.4099,  0.2470,  ...,  0.6595,  0.0838,  0.6160],\n",
            "        [ 0.3014, -1.3838,  0.8026,  ..., -1.1056, -0.6107,  1.3418],\n",
            "        ...,\n",
            "        [ 2.2372,  0.7165, -0.8512,  ..., -1.7458, -2.3529, -0.1706],\n",
            "        [-0.5123,  2.1026, -1.3835,  ..., -0.0779, -1.9606, -1.7960],\n",
            "        [-1.4279, -0.5462,  1.6382,  ..., -1.5663,  0.6481, -1.4983]])\n"
          ]
        }
      ]
    },
    {
      "cell_type": "code",
      "source": [
        "class multihead(nn.Module):\n",
        "  def __init__(self, h, d_model, dropout=0.1):\n",
        "    super(multihead, self).__init__()\n",
        "    assert d_model % h == 0\n",
        "    self.d_k = d_model // h\n",
        "    self.h = h\n",
        "    self.linears = clones(nn.Linear(d_model, d_model), 4)\n",
        "    self.attn = None\n",
        "    self.dropout = nn.Dropout(p=dropout)\n",
        "\n",
        "  def forward(self, q, k, v):\n",
        "    liste = [q, k, v]\n",
        "    nbatches = q.size(0)\n",
        "    for i in range(len(liste)):\n",
        "      for lin, x in zip(self.linears, liste[i]):\n",
        "        liste[i] = lin(x)\n",
        "\n",
        "    q = liste[0]\n",
        "    k = liste[1]\n",
        "    v = liste[2]\n",
        "\n",
        "    x = Attention(q, k, v) \n",
        "    return x\n",
        "      "
      ],
      "metadata": {
        "id": "046VZhEZ0T2i"
      },
      "execution_count": 8,
      "outputs": []
    },
    {
      "cell_type": "code",
      "source": [
        "class FFN(nn.Module):\n",
        "  def __init__(self, d_model, d_ff):\n",
        "    super(FFN, self).__init__()\n",
        "    self.fc1 = nn.Linear(d_model, d_ff)\n",
        "    self.fc2 = nn.Linear(d_ff, d_model)\n",
        "  \n",
        "  def forward(self, x):\n",
        "    x = F.relu(self.fc1(x))\n",
        "    x = self.fc2(x)\n",
        "    return x\n",
        "  "
      ],
      "metadata": {
        "id": "PmTvYn_t0Yms"
      },
      "execution_count": 9,
      "outputs": []
    },
    {
      "cell_type": "code",
      "source": [
        "q = torch.randn(2,3)\n",
        "k = torch.randn(2,3)\n",
        "v = torch.randn(2,2)\n",
        "#x = Attention(q,k,v)\n",
        "#print(x)\n",
        "a = torch.randn(32, 72, 512)\n",
        "b = torch.randn(32, 72, 512)\n",
        "c = torch.randn(32, 72, 512)\n",
        "d = Attention(a,b,c)\n",
        "print(d.size())"
      ],
      "metadata": {
        "colab": {
          "base_uri": "https://localhost:8080/"
        },
        "id": "e_rfB3-62AK2",
        "outputId": "a522bb04-616a-4473-ff97-331a9916310e"
      },
      "execution_count": 36,
      "outputs": [
        {
          "output_type": "stream",
          "name": "stdout",
          "text": [
            "torch.Size([32, 72, 512])\n"
          ]
        }
      ]
    },
    {
      "cell_type": "code",
      "source": [
        "obj = multihead(h=8, d_model=64*8)\n",
        "print(obj)"
      ],
      "metadata": {
        "colab": {
          "base_uri": "https://localhost:8080/"
        },
        "id": "fAne80ih2XCw",
        "outputId": "14d69d2c-ddb2-4cf9-f0c7-59b21043f1ff"
      },
      "execution_count": null,
      "outputs": [
        {
          "output_type": "stream",
          "name": "stdout",
          "text": [
            "multihead(\n",
            "  (linears): ModuleList(\n",
            "    (0): Linear(in_features=512, out_features=512, bias=True)\n",
            "    (1): Linear(in_features=512, out_features=512, bias=True)\n",
            "    (2): Linear(in_features=512, out_features=512, bias=True)\n",
            "    (3): Linear(in_features=512, out_features=512, bias=True)\n",
            "  )\n",
            "  (dropout): Dropout(p=0.1, inplace=False)\n",
            ")\n"
          ]
        }
      ]
    },
    {
      "cell_type": "code",
      "source": [
        "obj2 = FFN(d_model=512, d_ff=2048)\n",
        "print(obj2)"
      ],
      "metadata": {
        "colab": {
          "base_uri": "https://localhost:8080/"
        },
        "id": "NA3jrXmM3IVc",
        "outputId": "e06f5734-cd7d-4c1c-e490-4b99c9db477f"
      },
      "execution_count": null,
      "outputs": [
        {
          "output_type": "stream",
          "name": "stdout",
          "text": [
            "FFN(\n",
            "  (fc1): Linear(in_features=512, out_features=2048, bias=True)\n",
            "  (fc2): Linear(in_features=2048, out_features=512, bias=True)\n",
            ")\n"
          ]
        }
      ]
    },
    {
      "cell_type": "code",
      "source": [
        "class embeddings(nn.Module):\n",
        "  def __init__(self, d_model, vocab):\n",
        "    super(embeddings, self).__init__()\n",
        "    self.layer = nn.Embedding(vocab, d_model)\n",
        "    self.d_model = d_model\n",
        "\n",
        "  def forward(self, x):\n",
        "    return self.layer(x) * math.sqrt(self.d_model)"
      ],
      "metadata": {
        "id": "e8oLQKPB3UGD"
      },
      "execution_count": 10,
      "outputs": []
    },
    {
      "cell_type": "code",
      "source": [
        "class positional_encoding(nn.Module):\n",
        "  def __init__(self, d_model, dropout=0.1, max_len=5000):\n",
        "    super(positional_encoding, self).__init__()\n",
        "    self.dropout = nn.Dropout(p=dropout)\n",
        "    self.d_model = d_model\n",
        "    \n",
        "    pe = torch.zeros(max_len, d_model)\n",
        "\n",
        "    position = torch.arange(0, max_len).unsqueeze(1)\n",
        "    div_term = torch.exp(\n",
        "        torch.arange(0, d_model, 2) * -(math.log(10000.0) / d_model)\n",
        "    )\n",
        "    pe[:, 0::2] = torch.sin(position * div_term)\n",
        "    pe[:, 1::2] = torch.cos(position * div_term)\n",
        "    pe = pe.unsqueeze(0)\n",
        "    self.register_buffer(\"pe\", pe)\n",
        "\n",
        "    def forward(self, x):\n",
        "        x = x + self.pe[:, : x.size(1)].requires_grad_(False)\n",
        "        return self.dropout(x)"
      ],
      "metadata": {
        "id": "kLuGEqp24FmM"
      },
      "execution_count": 11,
      "outputs": []
    },
    {
      "cell_type": "code",
      "source": [
        "def rate(step, model_size, factor, warmup):\n",
        "    if step == 0:\n",
        "        step = 1\n",
        "    return factor * (model_size ** (-0.5) * min(step ** (-0.5), step * warmup ** (-1.5)))"
      ],
      "metadata": {
        "id": "Iox6lPyB8ESo"
      },
      "execution_count": 12,
      "outputs": []
    },
    {
      "cell_type": "code",
      "source": [
        "class Layer_Norm(nn.Module):\n",
        "\n",
        "  def __init__(self, features, eps=1e-6):\n",
        "    super(Layer_Norm, self).__init__()\n",
        "    self.a_2 = nn.Parameter(torch.ones(features))\n",
        "    self.b_2 = nn.Parameter(torch.zeros(features))\n",
        "    self.eps = eps\n",
        "\n",
        "  def forward(self, x):\n",
        "    mean = x.mean(-1, keepdim=True)\n",
        "    std = x.std(-1, keepdim=True)\n",
        "    return self.a_2 * (x - mean) / (std + self.eps) + self.b_2"
      ],
      "metadata": {
        "id": "Jpiw7sh84S_J"
      },
      "execution_count": 15,
      "outputs": []
    },
    {
      "cell_type": "code",
      "source": [
        "class Encoding(nn.Module):\n",
        "\n",
        "  def __init__(self, layer, N):\n",
        "    super(Encoding, self).__init__()\n",
        "    self.layers = clones(layer, N)\n",
        "    self.norm = Layer_Norm(layer.size)\n",
        "\n",
        "  def forward(self, x):\n",
        "    for layer in self.layers:\n",
        "      x = layer(x)\n",
        "    return self.norm(x)"
      ],
      "metadata": {
        "id": "KdWFyLmj36fy"
      },
      "execution_count": 16,
      "outputs": []
    },
    {
      "cell_type": "code",
      "source": [
        "class Sublayer_Connection(nn.Module):\n",
        " \n",
        "  def __init__(self, size, dropout):\n",
        "    super(Sublayer_Connection, self).__init__()\n",
        "    self.dropout = nn.Dropout(p=0.1)\n",
        "    self.norm = Layer_Norm(size)\n",
        "\n",
        "  def forward(self, x, sublayer):\n",
        "    return x + self.dropout(sublayer(self.norm(x)))   "
      ],
      "metadata": {
        "id": "1LjNUk697gEX"
      },
      "execution_count": 17,
      "outputs": []
    },
    {
      "cell_type": "code",
      "source": [],
      "metadata": {
        "id": "_r930aRO9BZK"
      },
      "execution_count": null,
      "outputs": []
    }
  ]
}