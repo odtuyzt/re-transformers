{
  "nbformat": 4,
  "nbformat_minor": 0,
  "metadata": {
    "colab": {
      "provenance": []
    },
    "kernelspec": {
      "name": "python3",
      "display_name": "Python 3"
    },
    "language_info": {
      "name": "python"
    }
  },
  "cells": [
    {
      "cell_type": "code",
      "execution_count": 1,
      "metadata": {
        "id": "ZMWa45di76ku"
      },
      "outputs": [],
      "source": [
        "import torch\n",
        "import torch.nn as nn \n",
        "import torch.nn.functional as F\n",
        "import copy\n",
        "import math"
      ]
    },
    {
      "cell_type": "code",
      "source": [
        "def clones(module, N):\n",
        "    \"Produce N identical layers.\"\n",
        "    return nn.ModuleList([copy.deepcopy(module) for _ in range(N)])"
      ],
      "metadata": {
        "id": "vDudv0iZ78wl"
      },
      "execution_count": 2,
      "outputs": []
    },
    {
      "cell_type": "code",
      "source": [
        "class Generator(nn.Module):\n",
        "    def __init__(self, d_model, vocab):\n",
        "        super(Generator, self).__init__()\n",
        "        self.proj = nn.Linear(d_model, vocab)\n",
        "\n",
        "    def forward(self, x):\n",
        "        return F.log_softmax(self.proj(x), dim=-1)"
      ],
      "metadata": {
        "id": "Ug22g4NA8b2G"
      },
      "execution_count": 9,
      "outputs": []
    },
    {
      "cell_type": "code",
      "source": [
        "class Layer_Norm(nn.Module):\n",
        "\n",
        "  def __init__(self, features, eps=1e-6):\n",
        "    super(Layer_Norm, self).__init__()\n",
        "    self.a_2 = nn.Parameter(torch.ones(features))\n",
        "    self.b_2 = nn.Parameter(torch.zeros(features))\n",
        "    self.eps = eps\n",
        "\n",
        "  def forward(self, x):\n",
        "    mean = x.mean(-1, keepdim=True)\n",
        "    std = x.std(-1, keepdim=True)\n",
        "    return self.a_2 * (x - mean) / (std + self.eps) + self.b_2"
      ],
      "metadata": {
        "id": "RfaVPr3J8D_u"
      },
      "execution_count": 3,
      "outputs": []
    },
    {
      "cell_type": "code",
      "source": [
        "class Sublayer_Connection(nn.Module):\n",
        " \n",
        "  def __init__(self, size, dropout):\n",
        "    super(Sublayer_Connection, self).__init__()\n",
        "    self.dropout = nn.Dropout(p=0.1)\n",
        "    self.norm = Layer_Norm(size)\n",
        "\n",
        "  def forward(self, x, sublayer):\n",
        "    return x + self.dropout(sublayer(self.norm(x)))   "
      ],
      "metadata": {
        "id": "Ef9YyC_s8Juq"
      },
      "execution_count": 4,
      "outputs": []
    },
    {
      "cell_type": "code",
      "source": [
        "class Encoding(nn.Module):\n",
        "\n",
        "  def __init__(self, layer, N):\n",
        "    super(Encoding, self).__init__()\n",
        "    self.layers = clones(layer, N)\n",
        "    self.norm = Layer_Norm(layer.size)\n",
        "\n",
        "  def forward(self, x):\n",
        "    for layer in self.layers:\n",
        "      x = layer(x)\n",
        "    return self.norm(x)"
      ],
      "metadata": {
        "id": "A3kIw6BB8NQF"
      },
      "execution_count": 5,
      "outputs": []
    },
    {
      "cell_type": "code",
      "source": [
        "class Encoding_Layer(nn.Module):\n",
        "\n",
        "  def __init__(self, size, self_attention, feed_forward, dropout):\n",
        "    super(Encoding_Layer, self).__init__()\n",
        "    self.dropout = nn.Dropout(p=0.1)\n",
        "    self.self_attention = self_attention\n",
        "    self.feed_forward = feed_forward\n",
        "    self.sublayers = clones(Sublayer_Connection(size, dropout), 2)\n",
        "    self.size = size\n",
        "\n",
        "  def forward(self, x):\n",
        "    x = self.sublayer[0](x, lambda x: self.self_attention(x, x, x))\n",
        "    return self.sublayer[1](x, self.feed_forward)"
      ],
      "metadata": {
        "id": "MvS-FGvx8SU9"
      },
      "execution_count": 6,
      "outputs": []
    },
    {
      "cell_type": "code",
      "source": [
        "class Decoding(nn.Module):\n",
        "\n",
        "  def __init__(self, layer, N):\n",
        "    super(Decoding, self).__init__()\n",
        "    self.layers = clones(layer, N)\n",
        "    self.norm = Layer_Norm(layer.size)\n",
        "\n",
        "  def forward(self, x):\n",
        "    for layer in self.layers:\n",
        "      x = layer(x)\n",
        "    return self.norm(x)"
      ],
      "metadata": {
        "id": "v1ipOjdg8TKH"
      },
      "execution_count": 7,
      "outputs": []
    },
    {
      "cell_type": "code",
      "source": [
        "class Decoding_Layer(nn.Module):\n",
        "\n",
        "  def __init__(self, size, self_attention, feed_forward, dropout):\n",
        "    super(Decoding_Layer, self).__init__()\n",
        "    self.dropout = nn.Dropout(p=0.1)\n",
        "    self.self_attention = self_attention\n",
        "    self.feed_forward = feed_forward\n",
        "    self.sublayers = clones(Sublayer_Connection(size, dropout), 3)\n",
        "    self.size = size\n",
        "\n",
        "  def forward(self, x):\n",
        "    x = self.sublayer[0](x, lambda x: self.self_attention(x, x, x))\n",
        "    x = self.sublayer[1](x, lambda x: self.self_attention(x, x, x))\n",
        "    return self.sublayer[2](x, self.feed_forward)"
      ],
      "metadata": {
        "id": "xkIJjoix8TSa"
      },
      "execution_count": 8,
      "outputs": []
    },
    {
      "cell_type": "code",
      "source": [
        "def Attention(q, k, v):\n",
        "  d_k = q.size(-1)\n",
        "  a = torch.matmul(q, torch.transpose(k,1,2))\n",
        "  a /= math.sqrt(d_k)\n",
        "  p_attention = a.softmax(dim=-1)\n",
        "  return torch.matmul(p_attention, v)"
      ],
      "metadata": {
        "id": "NXbLjBoR8TTM"
      },
      "execution_count": 10,
      "outputs": []
    },
    {
      "cell_type": "code",
      "source": [
        "a = torch.randn(32, 72, 512)\n",
        "b = torch.randn(32, 72, 512)\n",
        "c = torch.randn(32, 72, 512)\n",
        "d = Attention(a,b,c)\n",
        "print(d.size())"
      ],
      "metadata": {
        "colab": {
          "base_uri": "https://localhost:8080/"
        },
        "id": "FIQCVgly8TXH",
        "outputId": "6bc238bb-63e5-47a0-df6d-3ea2dc1da2b7"
      },
      "execution_count": 11,
      "outputs": [
        {
          "output_type": "stream",
          "name": "stdout",
          "text": [
            "torch.Size([32, 72, 512])\n"
          ]
        }
      ]
    },
    {
      "cell_type": "code",
      "source": [
        "class multihead(nn.Module):\n",
        "  def __init__(self, h, d_model, dropout=0.1):\n",
        "    super(multihead, self).__init__()\n",
        "    assert d_model % h == 0\n",
        "    self.d_k = d_model // h\n",
        "    self.h = h\n",
        "    self.linears = clones(nn.Linear(d_model, d_model), 4)\n",
        "    self.attn = None\n",
        "    self.dropout = nn.Dropout(p=dropout)\n",
        "\n",
        "  def forward(self, q, k, v):\n",
        "    liste = [q, k, v]\n",
        "    nbatches = q.size(0)\n",
        "    for i in range(len(liste)):\n",
        "      for lin, x in zip(self.linears, liste[i]):\n",
        "        liste[i] = lin(x)\n",
        "\n",
        "    q = liste[0]\n",
        "    k = liste[1]\n",
        "    v = liste[2]\n",
        "\n",
        "    x = Attention(q, k, v) \n",
        "    return x"
      ],
      "metadata": {
        "id": "v-xqmq9r8TXy"
      },
      "execution_count": 12,
      "outputs": []
    },
    {
      "cell_type": "code",
      "source": [
        "class FFN(nn.Module):\n",
        "  def __init__(self, d_model, d_ff):\n",
        "    super(FFN, self).__init__()\n",
        "    self.fc1 = nn.Linear(d_model, d_ff)\n",
        "    self.fc2 = nn.Linear(d_ff, d_model)\n",
        "  \n",
        "  def forward(self, x):\n",
        "    x = F.relu(self.fc1(x))\n",
        "    x = self.fc2(x)\n",
        "    return x"
      ],
      "metadata": {
        "id": "q3CsgrKL8u-m"
      },
      "execution_count": 13,
      "outputs": []
    },
    {
      "cell_type": "code",
      "source": [
        "class embeddings(nn.Module):\n",
        "  def __init__(self, d_model, vocab):\n",
        "    super(embeddings, self).__init__()\n",
        "    self.layer = nn.Embedding(vocab, d_model)\n",
        "    self.d_model = d_model\n",
        "\n",
        "  def forward(self, x):\n",
        "    return self.layer(x) * math.sqrt(self.d_model)"
      ],
      "metadata": {
        "id": "lZUuUmed8x6J"
      },
      "execution_count": 14,
      "outputs": []
    },
    {
      "cell_type": "code",
      "source": [
        "class positional_encoding(nn.Module):\n",
        "  def __init__(self, d_model, dropout=0.1, max_len=5000):\n",
        "    super(positional_encoding, self).__init__()\n",
        "    self.dropout = nn.Dropout(p=dropout)\n",
        "    self.d_model = d_model\n",
        "    \n",
        "    pe = torch.zeros(max_len, d_model)\n",
        "\n",
        "    position = torch.arange(0, max_len).unsqueeze(1)\n",
        "    div_term = torch.exp(\n",
        "        torch.arange(0, d_model, 2) * -(math.log(10000.0) / d_model)\n",
        "    )\n",
        "    pe[:, 0::2] = torch.sin(position * div_term)\n",
        "    pe[:, 1::2] = torch.cos(position * div_term)\n",
        "    pe = pe.unsqueeze(0)\n",
        "    self.register_buffer(\"pe\", pe)\n",
        "\n",
        "    def forward(self, x):\n",
        "        x = x + self.pe[:, : x.size(1)].requires_grad_(False)\n",
        "        return self.dropout(x)"
      ],
      "metadata": {
        "id": "fIt1NTna8x6_"
      },
      "execution_count": 15,
      "outputs": []
    },
    {
      "cell_type": "code",
      "source": [
        "\"\"\"\n",
        "class Label_Smoothing(nn.Module):\n",
        "  # Label Smoothing is a regularization technique that introduces noise for the labels. \n",
        "  # This accounts for the fact that datasets may have mistakes in them, so maximizing the likelihood of log( p(y | x) ) directly can be harmful.\n",
        "  # a set y is correct with probability (1 - epsilon)\n",
        "  # Label Smoothing regularizes a model based on a softmax with k output values by replacing the hard 0 and 1 \\n\n",
        "  # classification targets with targets of epsilon/(k-1) and (1 - epsilon) respectively\n",
        " \n",
        "  def __init__(self, k, padding_index, epsilon):\n",
        "    super(Label_Smoothing, self).__init__()\n",
        "    self.epsilon = epsilon\n",
        "    self.other = 1 - self.epsilon\n",
        "    self.k = k\n",
        "    self.criterion = nn.KLDivLoss(reduction = \"sum\")\n",
        "    self.padding_index = padding_index\n",
        "\n",
        "  def forward(self, x, target):\n",
        "    return self.criterion(x)\n",
        "\"\"\""
      ],
      "metadata": {
        "id": "cq1dog7l8x-4"
      },
      "execution_count": 27,
      "outputs": []
    },
    {
      "cell_type": "code",
      "source": [
        "def rate(step, model_size, factor, warmup):\n",
        "    if step == 0:\n",
        "        step = 1\n",
        "    return factor * ((model_size ** (-0.5)) * min((step ** (-0.5)), step * (warmup ** -1.5)))"
      ],
      "metadata": {
        "id": "jS4WyVy7FRtO"
      },
      "execution_count": 31,
      "outputs": []
    },
    {
      "cell_type": "code",
      "source": [
        "# We used the Adam optimizer with β1 = 0.9, β2 = 0.98 and epsilon = (10 ** (-9))"
      ],
      "metadata": {
        "id": "n_3aFhSlGAk-"
      },
      "execution_count": null,
      "outputs": []
    }
  ]
}