{
  "nbformat": 4,
  "nbformat_minor": 0,
  "metadata": {
    "colab": {
      "provenance": []
    },
    "kernelspec": {
      "name": "python3",
      "display_name": "Python 3"
    },
    "language_info": {
      "name": "python"
    }
  },
  "cells": [
    {
      "cell_type": "code",
      "source": [
        "import torch\n",
        "import torch.nn as nn \n",
        "import torch.nn.functional as F\n",
        "import copy\n",
        "import math"
      ],
      "metadata": {
        "id": "7PtaN4rM0kY4"
      },
      "execution_count": 34,
      "outputs": []
    },
    {
      "cell_type": "code",
      "source": [
        "def clones(module, N):\n",
        "    \"Produce N identical layers.\"\n",
        "    return nn.ModuleList([copy.deepcopy(module) for _ in range(N)])"
      ],
      "metadata": {
        "id": "WSkWLno8vM2l"
      },
      "execution_count": 35,
      "outputs": []
    },
    {
      "cell_type": "code",
      "source": [
        "def Attention(q, k, v):\n",
        "  d_k = q.size(-1)\n",
        "  a = torch.matmul(q, torch.t(k))\n",
        "  a /= math.sqrt(d_k)\n",
        "  p_attention = a.softmax(dim=-1)\n",
        "  return torch.matmul(p_attention, v)"
      ],
      "metadata": {
        "id": "ewX7mwMlvT6O"
      },
      "execution_count": 36,
      "outputs": []
    },
    {
      "cell_type": "code",
      "source": [
        "class multihead(nn.Module):\n",
        "  def __init__(self, h, d_model, dropout=0.1):\n",
        "    super(multihead, self).__init__()\n",
        "    assert d_model % h == 0\n",
        "    self.d_k = d_model // h\n",
        "    self.h = h\n",
        "    self.linears = clones(nn.Linear(d_model, d_model), 4)\n",
        "    self.attn = None\n",
        "    self.dropout = nn.Dropout(p=dropout)\n",
        "\n",
        "  def forward(self, q, k, v):\n",
        "    liste = [q, k, v]\n",
        "    nbatches = q.size(0)\n",
        "    for i in range(len(liste)):\n",
        "      for lin, x in zip(self.linears, liste[i]):\n",
        "        liste[i] = lin(x)\n",
        "\n",
        "    q = liste[0]\n",
        "    k = liste[1]\n",
        "    v = liste[2]\n",
        "\n",
        "    x = Attention(q, k, v) \n",
        "    return x\n",
        "      "
      ],
      "metadata": {
        "id": "046VZhEZ0T2i"
      },
      "execution_count": 37,
      "outputs": []
    },
    {
      "cell_type": "code",
      "source": [
        "class FFN(nn.Module):\n",
        "  def __init__(self, d_model, d_ff):\n",
        "    super(FFN, self).__init__()\n",
        "    self.fc1 = nn.Linear(d_model, d_ff)\n",
        "    self.fc2 = nn.Linear(d_ff, d_model)\n",
        "  \n",
        "  def forward(self, x):\n",
        "    x = F.relu(self.fc1(x))\n",
        "    x = self.fc2(x)\n",
        "    return x\n",
        "  "
      ],
      "metadata": {
        "id": "PmTvYn_t0Yms"
      },
      "execution_count": 38,
      "outputs": []
    },
    {
      "cell_type": "code",
      "source": [
        "q = torch.randn(2,3)\n",
        "k = torch.randn(2,3)\n",
        "v = torch.randn(2,2)\n",
        "x = Attention(q,k,v)\n",
        "print(x)"
      ],
      "metadata": {
        "colab": {
          "base_uri": "https://localhost:8080/"
        },
        "id": "e_rfB3-62AK2",
        "outputId": "a1a4d96d-df6f-48d8-e838-3c475be0a899"
      },
      "execution_count": 40,
      "outputs": [
        {
          "output_type": "stream",
          "name": "stdout",
          "text": [
            "tensor([[ 0.9429, -0.1959],\n",
            "        [ 0.9155, -0.1730]])\n"
          ]
        }
      ]
    },
    {
      "cell_type": "code",
      "source": [
        "obj = multihead(h=8, d_model=64*8)\n",
        "print(obj)"
      ],
      "metadata": {
        "colab": {
          "base_uri": "https://localhost:8080/"
        },
        "id": "fAne80ih2XCw",
        "outputId": "14d69d2c-ddb2-4cf9-f0c7-59b21043f1ff"
      },
      "execution_count": 41,
      "outputs": [
        {
          "output_type": "stream",
          "name": "stdout",
          "text": [
            "multihead(\n",
            "  (linears): ModuleList(\n",
            "    (0): Linear(in_features=512, out_features=512, bias=True)\n",
            "    (1): Linear(in_features=512, out_features=512, bias=True)\n",
            "    (2): Linear(in_features=512, out_features=512, bias=True)\n",
            "    (3): Linear(in_features=512, out_features=512, bias=True)\n",
            "  )\n",
            "  (dropout): Dropout(p=0.1, inplace=False)\n",
            ")\n"
          ]
        }
      ]
    },
    {
      "cell_type": "code",
      "source": [
        "obj2 = FFN(d_model=512, d_ff=2048)\n",
        "print(obj2)"
      ],
      "metadata": {
        "colab": {
          "base_uri": "https://localhost:8080/"
        },
        "id": "NA3jrXmM3IVc",
        "outputId": "e06f5734-cd7d-4c1c-e490-4b99c9db477f"
      },
      "execution_count": 42,
      "outputs": [
        {
          "output_type": "stream",
          "name": "stdout",
          "text": [
            "FFN(\n",
            "  (fc1): Linear(in_features=512, out_features=2048, bias=True)\n",
            "  (fc2): Linear(in_features=2048, out_features=512, bias=True)\n",
            ")\n"
          ]
        }
      ]
    },
    {
      "cell_type": "code",
      "source": [
        "class embeddings(nn.Module):\n",
        "  def __init__(self, d_model, vocab):\n",
        "    super(embeddings, self).__init__()\n",
        "    self.layer = nn.Embedding(vocab, d_model)\n",
        "    self.d_model = d_model\n",
        "\n",
        "  def forward(self, x):\n",
        "    return self.layer(x) * math.sqrt(self.d_model)"
      ],
      "metadata": {
        "id": "e8oLQKPB3UGD"
      },
      "execution_count": 44,
      "outputs": []
    },
    {
      "cell_type": "code",
      "source": [
        "class positional_encoding(nn.Module):\n",
        "  def __init__(self, d_model, dropout=0.1, max_len=5000):\n",
        "    super(positional_encoding, self).__init__()\n",
        "    self.dropout = nn.Dropout(p=dropout)\n",
        "    self.d_model = d_model\n",
        "    \n",
        "    pe = torch.zeros(max_len, d_model)\n",
        "\n",
        "    position = torch.arange(0, max_len).unsqueeze(1)\n",
        "    div_term = torch.exp(\n",
        "        torch.arange(0, d_model, 2) * -(math.log(10000.0) / d_model)\n",
        "    )\n",
        "    pe[:, 0::2] = torch.sin(position * div_term)\n",
        "    pe[:, 1::2] = torch.cos(position * div_term)\n",
        "    pe = pe.unsqueeze(0)\n",
        "    self.register_buffer(\"pe\", pe)\n",
        "\n",
        "    def forward(self, x):\n",
        "        x = x + self.pe[:, : x.size(1)].requires_grad_(False)\n",
        "        return self.dropout(x)"
      ],
      "metadata": {
        "id": "kLuGEqp24FmM"
      },
      "execution_count": 46,
      "outputs": []
    },
    {
      "cell_type": "code",
      "source": [
        "def rate(step, model_size, factor, warmup):\n",
        "    if step == 0:\n",
        "        step = 1\n",
        "    return factor * (model_size ** (-0.5) * min(step ** (-0.5), step * warmup ** (-1.5)))"
      ],
      "metadata": {
        "id": "Iox6lPyB8ESo"
      },
      "execution_count": 47,
      "outputs": []
    }
  ]
}