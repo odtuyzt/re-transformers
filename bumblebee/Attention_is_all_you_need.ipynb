{
  "cells": [
    {
      "cell_type": "code",
      "execution_count": 12,
      "metadata": {
        "id": "NNFNJRrv9pQB"
      },
      "outputs": [],
      "source": [
        "import numpy as np\n",
        "import torch\n",
        "import torch.nn as nn\n",
        "import torch.nn.functional as F"
      ]
    },
    {
      "cell_type": "code",
      "execution_count": 14,
      "metadata": {},
      "outputs": [],
      "source": [
        "class EncoderLayer(nn.Module):\n",
        "    def __init__(self, d_model = 512, h = 8):\n",
        "        super(MultiHeadAttention, self).__init__()\n",
        "        self.d_model = d_model\n",
        "        self.h = h\n",
        "        self.d_k = self.d_v = self.d_model / self.h\n",
        "        self.linears = nn.ModuleList([nn.Linear(self.d_model, self.d_k, bias=False)*24])\n",
        "        self.linear = nn.Linear(self.h * self.d_v, self.d_model)\n",
        "        self.Z = torch.randn(self.d_model, self.d_v)\n",
        "        self.normalize = nn.LayerNorm(self.d_model)\n",
        "        self.feed_forward = nn.Sequential(\n",
        "            nn.Linear(512, 2048, bias = False),\n",
        "            nn.ReLU(),\n",
        "            nn.Linear(2048, 512, bias = False)\n",
        "        )\n",
        "    def forward(self, x):\n",
        "        self.x = x\n",
        "        self.heads = []\n",
        "        for i, _ in enumerate(self.linears):\n",
        "            Q = self.linears[3*i](self.x)\n",
        "            K = self.linears[3*i+1](self.x)\n",
        "            V = self.linears[3*i+2](self.x)\n",
        "            head = F.softmax(torch.matmul(Q, K.T) / torch.sqrt(self.d_k)) * V\n",
        "            self.heads.append(head)\n",
        "        self.Z = self.linear(torch.cat((self.heads), dim=-1))\n",
        "        self.Z = self.normalize(self.x + self.feed_forward(self.normalize(self.x + self.Z)))\n",
        "        return self.Z"
      ]
    }
  ],
  "metadata": {
    "colab": {
      "name": "Attention is all you need.ipynb",
      "provenance": []
    },
    "kernelspec": {
      "display_name": "Python 3",
      "name": "python3"
    },
    "language_info": {
      "codemirror_mode": {
        "name": "ipython",
        "version": 3
      },
      "file_extension": ".py",
      "mimetype": "text/x-python",
      "name": "python",
      "nbconvert_exporter": "python",
      "pygments_lexer": "ipython3",
      "version": "3.9.7"
    }
  },
  "nbformat": 4,
  "nbformat_minor": 0
}
